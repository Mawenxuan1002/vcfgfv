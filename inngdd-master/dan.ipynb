{
 "cells": [
  {
   "cell_type": "code",
   "execution_count": 1,
   "id": "82ca98ae",
   "metadata": {},
   "outputs": [],
   "source": [
    "import os\n",
    "from zhipuai import ZhipuAI\n",
    "\n",
    "os.environ[\"ZHIPUAI_API_KEY\"]=\"abcbe1673c5864c5689ee1aec8ccc7fc.j1KHHY4uomSjCief\"\n",
    "client=ZhipuAI()\n",
    "\n",
    "kb_id=1748261416734965760"
   ]
  },
  {
   "cell_type": "code",
   "execution_count": 2,
   "id": "1cb4932d",
   "metadata": {},
   "outputs": [],
   "source": [
    "prompt_template=\"\"\"\n",
    "从文档{{knowledge}}中找问题{{question}}的答案，\n",
    "找到就仅使用文档语句回答，找不到就用自身知识回答并说明该信息不是来自文档\"\"\""
   ]
  },
  {
   "cell_type": "code",
   "execution_count": 3,
   "id": "903f0cf6",
   "metadata": {},
   "outputs": [
    {
     "data": {
      "text/plain": [
       "Completion(model='glm-4', created=1732776856, choices=[CompletionChoice(index=0, finish_reason='stop', message=CompletionMessage(content='大学生放假的具体天数因国家、学校以及学年的不同而有所差异。通常，中国的大学生寒假一般在一月底或二月初开始，持续大约4到6周；暑假则通常在六月底或七月初开始，持续大约8到10周。具体的放假天数需要根据你所在的学校发布的校历来确定。\\n\\n由于我无法获取当前的日期信息，如果你想知道从现在起还有多少天放假，你可以查看你所在学校的官方校历，或者告诉我具体的放假日期，我可以帮你计算。', role='assistant', tool_calls=None))], request_id='20241128145413fa4633ddda6545a7', id='20241128145413fa4633ddda6545a7', usage=CompletionUsage(prompt_tokens=10, completion_tokens=106, total_tokens=116))"
      ]
     },
     "execution_count": 3,
     "metadata": {},
     "output_type": "execute_result"
    }
   ],
   "source": [
    "response=client.chat.completions.create(\n",
    "    model=\"glm-4\",\n",
    "    messages=[\n",
    "        {\"role\":\"user\",\"content\":\"大学生还有多少天放假\"},#提问\n",
    "    ],\n",
    "    tools=[\n",
    "        {\n",
    "            \"type\":\"retrieval\",\n",
    "            \"retrieval\":{\n",
    "                \"knowledge_id\":kb_id,\n",
    "                \"prompt_template\":prompt_template,\n",
    "            }\n",
    "        }],\n",
    "    stream=False\n",
    ")\n",
    "response"
   ]
  },
  {
   "cell_type": "code",
   "execution_count": null,
   "id": "f665b8f1",
   "metadata": {},
   "outputs": [],
   "source": []
  }
 ],
 "metadata": {
  "kernelspec": {
   "display_name": "Python 3 (ipykernel)",
   "language": "python",
   "name": "python3"
  },
  "language_info": {
   "codemirror_mode": {
    "name": "ipython",
    "version": 3
   },
   "file_extension": ".py",
   "mimetype": "text/x-python",
   "name": "python",
   "nbconvert_exporter": "python",
   "pygments_lexer": "ipython3",
   "version": "3.9.7"
  }
 },
 "nbformat": 4,
 "nbformat_minor": 5
}
