{
 "cells": [
  {
   "cell_type": "code",
   "execution_count": 1,
   "id": "b75e5d91-6472-43a1-ad89-a7c45a3e41c3",
   "metadata": {},
   "outputs": [
    {
     "name": "stdout",
     "output_type": "stream",
     "text": [
      "近似解: -1.4729924205954081\n",
      "函数值: -5.444192066368866\n",
      "迭代过程: [0, -0.01, -0.02079996, -0.032463596845596666, -0.04505931607717791, -0.058660401930537696, -0.07334515996693879, -0.08919699031612727, -0.10630436312343702, -0.12476065997495608, -0.14466383567679322, -0.16611584370873142, -0.1892217560353375, -0.21408849408074193, -0.24082307332507769, -0.269530250575406, -0.3003094528440206, -0.33325086353224326, -0.3684305504586608, -0.40590454820222105, -0.445701863041648, -0.487816462394225, -0.5321984515389058, -0.5787448344416923, -0.6272905001487188, -0.6776003540061509, -0.7293637845589119, -0.7821928565810927, -0.8356256585256926, -0.8891360100029335, -0.9421501750822406, -0.9940703198239422, -1.0443032960379104, -1.0922921520430646, -1.1375468798056136, -1.1796706165462525, -1.218378006531228, -1.2535036430755706, -1.2850001583973658, -1.3129271746831883, -1.337433561772867, -1.3587360238424258, -1.37709694713257, -1.3928038571177463, -1.4061520136076504, -1.4174308534406659, -1.4269143289213027, -1.4348547491984518, -1.4414795029912284, -1.4469899771657235, -1.4515620287096116, -1.4553474664620336, -1.4584761162749322, -1.4610581561310556, -1.463186504530614, -1.464939122284253, -1.466381145288528, -1.4675668066311471, -1.4685411338801047, -1.4693414249401078, -1.4699985162199687, -1.4705378622732102, -1.470980448226718, -1.471343556408815, -1.4716414074718802, -1.4718856945438785, -1.472086026907529, -1.4722502976256424, -1.472384987541907, -1.4724954162606871, -1.472585949079399, -1.4726601674199689, -1.4727210090742833, -1.472770883527086, -1.4728117667295104, -1.4728452789475088, -1.47287274868261, -1.4728952651398801, -1.4729137212837644, -1.4729288491626107, -1.4729412488850278, -1.4729514123854692, -1.4729597429137786, -1.472966571016512, -1.4729721676404954, -1.4729767548761172, -1.472980514765025, -1.4729835965206437, -1.472986122447317, -1.4729881927924815, -1.4729898897241054, -1.4729912805910226, -1.4729924205954081]\n"
     ]
    }
   ],
   "source": [
    "def function(x):\n",
    "    return x**4 - 4*x**2 + x\n",
    "\n",
    "def derivative(x):\n",
    "    return 4*x**3 - 8*x + 1\n",
    "\n",
    "def gradient_descent(initial_x, learning_rate, num_iterations=1000, precision=1e-6):\n",
    "    x = initial_x\n",
    "    history = [x]\n",
    "    for _ in range(num_iterations):\n",
    "        grad = derivative(x)\n",
    "        x_new = x - learning_rate * grad\n",
    "        if abs(x_new - x) < precision:\n",
    "            break\n",
    "        x = x_new\n",
    "        history.append(x)\n",
    "    return x, function(x), history\n",
    "\n",
    "# 参数设置\n",
    "x0 = 0  # 初始值\n",
    "eta = 0.01  # 学习率\n",
    "x_min, f_min, history = gradient_descent(x0, eta)\n",
    "\n",
    "print(\"近似解:\", x_min)\n",
    "print(\"函数值:\", f_min)\n",
    "print(\"迭代过程:\", history)"
   ]
  },
  {
   "cell_type": "code",
   "execution_count": 2,
   "id": "be687708-72f3-46d4-bd2c-e6bda7627485",
   "metadata": {},
   "outputs": [
    {
     "ename": "SyntaxError",
     "evalue": "invalid syntax (Temp/ipykernel_8016/3910566379.py, line 7)",
     "output_type": "error",
     "traceback": [
      "\u001b[1;36m  File \u001b[1;32m\"C:\\Users\\admin\\AppData\\Local\\Temp/ipykernel_8016/3910566379.py\"\u001b[1;36m, line \u001b[1;32m7\u001b[0m\n\u001b[1;33m    df dx = 4*x**3 - 8*x + 2*y\u001b[0m\n\u001b[1;37m       ^\u001b[0m\n\u001b[1;31mSyntaxError\u001b[0m\u001b[1;31m:\u001b[0m invalid syntax\n"
     ]
    }
   ],
   "source": [
    "import numpy as np\n",
    "\n",
    "def function(x, y):\n",
    "    return x**4 + y**4 - 4*x**2 - 4*y**2 + 2*x*y + 1\n",
    "\n",
    "def gradient(x, y):\n",
    "    df dx = 4*x**3 - 8*x + 2*y\n",
    "    df dy = 4*y**3 - 8*y + 2*x\n",
    "    return np.array([df dx, df dy])\n",
    "\n",
    "def gradient_descent(initial_x, initial_y, learning_rate, num_iterations=1000, precision=1e-6):\n",
    "    x, y = initial_x, initial_y\n",
    "    history = [(x, y)]\n",
    "    for _ in range(num_iterations):\n",
    "        grad = gradient(x, y)\n",
    "        x_new = x - learning_rate * grad[0]\n",
    "        y_new = y - learning_rate * grad[1]\n",
    "        if np.linalg.norm([x_new - x, y_new - y]) < precision:\n",
    "            break\n",
    "        x, y = x_new, y_new\n",
    "        history.append((x, y))\n",
    "    return (x, y), function(x, y), history\n",
    "\n",
    "# 参数设置\n",
    "x0, y0 = 0, 0  # 初始值\n",
    "eta = 0.01  # 学习率\n",
    "point_min, f_min, history = gradient_descent(x0, y0, eta)\n",
    "\n",
    "print(\"近似解:\", point_min)\n",
    "print(\"函数值:\", f_min)\n",
    "print(\"迭代过程:\", history)\n",
    "\n",
    "# 为了确保找到全局最小值，可以尝试从多个不同的初始点开始\n",
    "initial_points = [(-1, -1), (1, 1), (0, 0), (-1, 1), (1, -1)]\n",
    "results = []\n",
    "\n",
    "for x0, y0 in initial_points:\n",
    "    point_min, f_min, history = gradient_descent(x0, y0, eta)\n",
    "    results.append((point_min, f_min, history))\n",
    "\n",
    "# 找到全局最小值\n",
    "global_min = min(results, key=lambda x: x[1])\n",
    "print(\"全局最小值的近似解:\", global_min[0])\n",
    "print(\"全局最小值的函数值:\", global_min[1])\n",
    "print(\"全局最小值的迭代过程:\", global_min[2])"
   ]
  },
  {
   "cell_type": "code",
   "execution_count": null,
   "id": "b67a09b1-0663-441c-8a2e-1b0ccb508630",
   "metadata": {},
   "outputs": [],
   "source": []
  }
 ],
 "metadata": {
  "kernelspec": {
   "display_name": "Python 3 (ipykernel)",
   "language": "python",
   "name": "python3"
  },
  "language_info": {
   "codemirror_mode": {
    "name": "ipython",
    "version": 3
   },
   "file_extension": ".py",
   "mimetype": "text/x-python",
   "name": "python",
   "nbconvert_exporter": "python",
   "pygments_lexer": "ipython3",
   "version": "3.9.7"
  }
 },
 "nbformat": 4,
 "nbformat_minor": 5
}
