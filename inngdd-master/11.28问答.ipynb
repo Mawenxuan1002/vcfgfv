{
 "cells": [
  {
   "cell_type": "code",
   "execution_count": 8,
   "id": "6f0a1647",
   "metadata": {},
   "outputs": [],
   "source": [
    "import os\n",
    "from zhipuai import ZhipuAI\n",
    "\n",
    "os.environ[\"ZHIPUAI_API_KEY\"]=\"abcbe1673c5864c5689ee1aec8ccc7fc.j1KHHY4uomSjCief\"\n",
    "client=ZhipuAI()\n",
    "\n",
    "kb_id=1748261416734965760"
   ]
  },
  {
   "cell_type": "code",
   "execution_count": 3,
   "id": "1de3cefb",
   "metadata": {},
   "outputs": [],
   "source": [
    "#设置提示词（模板）\n",
    "prompt_template=\"\"\"\n",
    "从文档{{knowledge}}中找问题{{question}}的答案，\n",
    "找到就仅使用文档语句回答，找不到就用自身知识回答并说明该信息不是来自文档\"\"\""
   ]
  },
  {
   "cell_type": "code",
   "execution_count": 9,
   "id": "56b38bd5",
   "metadata": {},
   "outputs": [
    {
     "data": {
      "text/plain": [
       "Completion(model='glm-4', created=1732785631, choices=[CompletionChoice(index=0, finish_reason='stop', message=CompletionMessage(content='截至我所知的信息，中国的春节假期通常由国务院提前发布，具体的假期安排会根据每年的具体情况而有所调整。2025年的春节具体放假安排还没有官方公布。\\n\\n但是，根据以往的情况，春节假期通常包括春节当天（农历正月初一）及其周边的几天，形成连续的假期。一般而言，春节假期长度在7天左右，这包括春节前后的周末调休，形成所谓的“黄金周”。\\n\\n如果按照这个习惯，2025年的春节假期可能会是从农历除夕前的一个工作日开始，到正月初六或初七结束，共计7天或7天以上，具体还要看国家如何调整周末工作日以及具体的放假安排。\\n\\n要获得2025年春节的准确假期信息，建议在接近那个时期时关注国务院办公厅或人力资源和社会保障部等官方部门的公告。', role='assistant', tool_calls=None))], request_id='202411281720241578c49e5f6a4108', id='202411281720241578c49e5f6a4108', usage=CompletionUsage(prompt_tokens=11, completion_tokens=170, total_tokens=181))"
      ]
     },
     "execution_count": 9,
     "metadata": {},
     "output_type": "execute_result"
    }
   ],
   "source": [
    "#直接调用对话补全接口\n",
    "response=client.chat.completions.create(\n",
    "    model=\"glm-4\",\n",
    "    messages=[\n",
    "        {\"role\":\"user\",\"content\":\"2025春节有多少天假期\"},\n",
    "    ],\n",
    "    tools=[\n",
    "        {\n",
    "            \"type\":\"retrieval\",                        \n",
    "            \"retrieval\":{\n",
    "                \"knowledge_id\":kb_id,                \n",
    "                \"prompt_template\":prompt_template,     \n",
    "            }\n",
    "        }],\n",
    "    stream=False                                      \n",
    ")\n",
    "response                                               "
   ]
  },
  {
   "cell_type": "code",
   "execution_count": 10,
   "id": "4bea147d",
   "metadata": {},
   "outputs": [
    {
     "name": "stdout",
     "output_type": "stream",
     "text": [
      "1862064161622720512\n"
     ]
    }
   ],
   "source": [
    "from zhipuai import ZhipuAI\n",
    "\n",
    "client=ZhipuAI(api_key=\"abcbe1673c5864c5689ee1aec8ccc7fc.j1KHHY4uomSjCief\")\n",
    "\n",
    "result=client.knowledge.create(\n",
    "    embedding_id=3,\n",
    "    name=\"xwd knowledge\",\n",
    "    description=\"knowledge description\"\n",
    ")\n",
    "print(result.id)"
   ]
  },
  {
   "cell_type": "code",
   "execution_count": null,
   "id": "e478df2a",
   "metadata": {},
   "outputs": [],
   "source": [
    "resp=client.knowledge.document.create(\n",
    "    file=open(\"xxx.xlsx\",\"rb\")#换成自己文件\n",
    "    purpose=\"retrieval\",\n",
    "    knowledge_id=\"1862034011111686144\",\n",
    "    sentence_size=202,\n",
    "    custom_separator=[\"\\n\"]\n",
    "\n",
    ")\n",
    "print(resp)"
   ]
  },
  {
   "cell_type": "code",
   "execution_count": 7,
   "id": "657265a3",
   "metadata": {},
   "outputs": [
    {
     "ename": "APIReachLimitError",
     "evalue": "Error code: 429, with error text {\"error\":{\"code\":\"1113\",\"message\":\"您的账户已欠费，请充值后重试。\"}}",
     "output_type": "error",
     "traceback": [
      "\u001b[1;31m---------------------------------------------------------------------------\u001b[0m",
      "\u001b[1;31mAPIReachLimitError\u001b[0m                        Traceback (most recent call last)",
      "\u001b[1;32m~\\AppData\\Local\\Temp/ipykernel_4516/1889519274.py\u001b[0m in \u001b[0;36m<module>\u001b[1;34m\u001b[0m\n\u001b[0;32m     13\u001b[0m \u001b[0mmessage_content\u001b[0m\u001b[1;33m=\u001b[0m\u001b[1;34mf\"对\\n{file_content}\\n的内容进行分析，写一份论文摘要。\"\u001b[0m\u001b[1;33m\u001b[0m\u001b[1;33m\u001b[0m\u001b[0m\n\u001b[0;32m     14\u001b[0m \u001b[1;33m\u001b[0m\u001b[0m\n\u001b[1;32m---> 15\u001b[1;33m response=client.chat.completions.create(\n\u001b[0m\u001b[0;32m     16\u001b[0m     \u001b[0mmodel\u001b[0m\u001b[1;33m=\u001b[0m\u001b[1;34m\"glm-4-long\"\u001b[0m\u001b[1;33m,\u001b[0m\u001b[1;33m\u001b[0m\u001b[1;33m\u001b[0m\u001b[0m\n\u001b[0;32m     17\u001b[0m     messages=[\n",
      "\u001b[1;32mC:\\ProgramData\\Anaconda3\\lib\\site-packages\\zhipuai\\api_resource\\chat\\completions.py\u001b[0m in \u001b[0;36mcreate\u001b[1;34m(self, model, request_id, user_id, do_sample, stream, temperature, top_p, max_tokens, seed, messages, stop, sensitive_word_check, tools, tool_choice, meta, extra, extra_headers, extra_body, timeout)\u001b[0m\n\u001b[0;32m     92\u001b[0m             \u001b[1;34m\"extra\"\u001b[0m\u001b[1;33m:\u001b[0m \u001b[0mmaybe_transform\u001b[0m\u001b[1;33m(\u001b[0m\u001b[0mextra\u001b[0m\u001b[1;33m,\u001b[0m \u001b[0mcode_geex_params\u001b[0m\u001b[1;33m.\u001b[0m\u001b[0mCodeGeexExtra\u001b[0m\u001b[1;33m)\u001b[0m\u001b[1;33m,\u001b[0m\u001b[1;33m\u001b[0m\u001b[1;33m\u001b[0m\u001b[0m\n\u001b[0;32m     93\u001b[0m         })\n\u001b[1;32m---> 94\u001b[1;33m         return self._post(\n\u001b[0m\u001b[0;32m     95\u001b[0m             \u001b[1;34m\"/chat/completions\"\u001b[0m\u001b[1;33m,\u001b[0m\u001b[1;33m\u001b[0m\u001b[1;33m\u001b[0m\u001b[0m\n\u001b[0;32m     96\u001b[0m             \u001b[0mbody\u001b[0m\u001b[1;33m=\u001b[0m\u001b[0mbody\u001b[0m\u001b[1;33m,\u001b[0m\u001b[1;33m\u001b[0m\u001b[1;33m\u001b[0m\u001b[0m\n",
      "\u001b[1;32mC:\\ProgramData\\Anaconda3\\lib\\site-packages\\zhipuai\\core\\_http_client.py\u001b[0m in \u001b[0;36mpost\u001b[1;34m(self, path, cast_type, body, options, files, stream, stream_cls)\u001b[0m\n\u001b[0;32m    807\u001b[0m         )\n\u001b[0;32m    808\u001b[0m \u001b[1;33m\u001b[0m\u001b[0m\n\u001b[1;32m--> 809\u001b[1;33m         \u001b[1;32mreturn\u001b[0m \u001b[0mcast\u001b[0m\u001b[1;33m(\u001b[0m\u001b[0mResponseT\u001b[0m\u001b[1;33m,\u001b[0m \u001b[0mself\u001b[0m\u001b[1;33m.\u001b[0m\u001b[0mrequest\u001b[0m\u001b[1;33m(\u001b[0m\u001b[0mcast_type\u001b[0m\u001b[1;33m,\u001b[0m \u001b[0mopts\u001b[0m\u001b[1;33m,\u001b[0m \u001b[0mstream\u001b[0m\u001b[1;33m=\u001b[0m\u001b[0mstream\u001b[0m\u001b[1;33m,\u001b[0m \u001b[0mstream_cls\u001b[0m\u001b[1;33m=\u001b[0m\u001b[0mstream_cls\u001b[0m\u001b[1;33m)\u001b[0m\u001b[1;33m)\u001b[0m\u001b[1;33m\u001b[0m\u001b[1;33m\u001b[0m\u001b[0m\n\u001b[0m\u001b[0;32m    810\u001b[0m \u001b[1;33m\u001b[0m\u001b[0m\n\u001b[0;32m    811\u001b[0m     def patch(\n",
      "\u001b[1;32mC:\\ProgramData\\Anaconda3\\lib\\site-packages\\zhipuai\\core\\_http_client.py\u001b[0m in \u001b[0;36mrequest\u001b[1;34m(self, cast_type, options, remaining_retries, stream, stream_cls)\u001b[0m\n\u001b[0;32m    493\u001b[0m             \u001b[0mstream_cls\u001b[0m\u001b[1;33m:\u001b[0m \u001b[0mType\u001b[0m\u001b[1;33m[\u001b[0m\u001b[0mStreamResponse\u001b[0m\u001b[1;33m]\u001b[0m \u001b[1;33m|\u001b[0m \u001b[1;32mNone\u001b[0m \u001b[1;33m=\u001b[0m \u001b[1;32mNone\u001b[0m\u001b[1;33m,\u001b[0m\u001b[1;33m\u001b[0m\u001b[1;33m\u001b[0m\u001b[0m\n\u001b[0;32m    494\u001b[0m     ) -> ResponseT | StreamResponse:\n\u001b[1;32m--> 495\u001b[1;33m         return self._request(\n\u001b[0m\u001b[0;32m    496\u001b[0m             \u001b[0mcast_type\u001b[0m\u001b[1;33m=\u001b[0m\u001b[0mcast_type\u001b[0m\u001b[1;33m,\u001b[0m\u001b[1;33m\u001b[0m\u001b[1;33m\u001b[0m\u001b[0m\n\u001b[0;32m    497\u001b[0m             \u001b[0moptions\u001b[0m\u001b[1;33m=\u001b[0m\u001b[0moptions\u001b[0m\u001b[1;33m,\u001b[0m\u001b[1;33m\u001b[0m\u001b[1;33m\u001b[0m\u001b[0m\n",
      "\u001b[1;32mC:\\ProgramData\\Anaconda3\\lib\\site-packages\\zhipuai\\core\\_http_client.py\u001b[0m in \u001b[0;36m_request\u001b[1;34m(self, cast_type, options, remaining_retries, stream, stream_cls)\u001b[0m\n\u001b[0;32m    527\u001b[0m \u001b[1;33m\u001b[0m\u001b[0m\n\u001b[0;32m    528\u001b[0m             \u001b[1;32mif\u001b[0m \u001b[0mretries\u001b[0m \u001b[1;33m>\u001b[0m \u001b[1;36m0\u001b[0m\u001b[1;33m:\u001b[0m\u001b[1;33m\u001b[0m\u001b[1;33m\u001b[0m\u001b[0m\n\u001b[1;32m--> 529\u001b[1;33m                 return self._retry_request(\n\u001b[0m\u001b[0;32m    530\u001b[0m                     \u001b[0moptions\u001b[0m\u001b[1;33m,\u001b[0m\u001b[1;33m\u001b[0m\u001b[1;33m\u001b[0m\u001b[0m\n\u001b[0;32m    531\u001b[0m                     \u001b[0mcast_type\u001b[0m\u001b[1;33m,\u001b[0m\u001b[1;33m\u001b[0m\u001b[1;33m\u001b[0m\u001b[0m\n",
      "\u001b[1;32mC:\\ProgramData\\Anaconda3\\lib\\site-packages\\zhipuai\\core\\_http_client.py\u001b[0m in \u001b[0;36m_retry_request\u001b[1;34m(self, options, cast_type, remaining_retries, response_headers, stream, stream_cls)\u001b[0m\n\u001b[0;32m    620\u001b[0m         \u001b[0mtime\u001b[0m\u001b[1;33m.\u001b[0m\u001b[0msleep\u001b[0m\u001b[1;33m(\u001b[0m\u001b[0mtimeout\u001b[0m\u001b[1;33m)\u001b[0m\u001b[1;33m\u001b[0m\u001b[1;33m\u001b[0m\u001b[0m\n\u001b[0;32m    621\u001b[0m \u001b[1;33m\u001b[0m\u001b[0m\n\u001b[1;32m--> 622\u001b[1;33m         return self._request(\n\u001b[0m\u001b[0;32m    623\u001b[0m             \u001b[0moptions\u001b[0m\u001b[1;33m=\u001b[0m\u001b[0moptions\u001b[0m\u001b[1;33m,\u001b[0m\u001b[1;33m\u001b[0m\u001b[1;33m\u001b[0m\u001b[0m\n\u001b[0;32m    624\u001b[0m             \u001b[0mcast_type\u001b[0m\u001b[1;33m=\u001b[0m\u001b[0mcast_type\u001b[0m\u001b[1;33m,\u001b[0m\u001b[1;33m\u001b[0m\u001b[1;33m\u001b[0m\u001b[0m\n",
      "\u001b[1;32mC:\\ProgramData\\Anaconda3\\lib\\site-packages\\zhipuai\\core\\_http_client.py\u001b[0m in \u001b[0;36m_request\u001b[1;34m(self, cast_type, options, remaining_retries, stream, stream_cls)\u001b[0m\n\u001b[0;32m    527\u001b[0m \u001b[1;33m\u001b[0m\u001b[0m\n\u001b[0;32m    528\u001b[0m             \u001b[1;32mif\u001b[0m \u001b[0mretries\u001b[0m \u001b[1;33m>\u001b[0m \u001b[1;36m0\u001b[0m\u001b[1;33m:\u001b[0m\u001b[1;33m\u001b[0m\u001b[1;33m\u001b[0m\u001b[0m\n\u001b[1;32m--> 529\u001b[1;33m                 return self._retry_request(\n\u001b[0m\u001b[0;32m    530\u001b[0m                     \u001b[0moptions\u001b[0m\u001b[1;33m,\u001b[0m\u001b[1;33m\u001b[0m\u001b[1;33m\u001b[0m\u001b[0m\n\u001b[0;32m    531\u001b[0m                     \u001b[0mcast_type\u001b[0m\u001b[1;33m,\u001b[0m\u001b[1;33m\u001b[0m\u001b[1;33m\u001b[0m\u001b[0m\n",
      "\u001b[1;32mC:\\ProgramData\\Anaconda3\\lib\\site-packages\\zhipuai\\core\\_http_client.py\u001b[0m in \u001b[0;36m_retry_request\u001b[1;34m(self, options, cast_type, remaining_retries, response_headers, stream, stream_cls)\u001b[0m\n\u001b[0;32m    620\u001b[0m         \u001b[0mtime\u001b[0m\u001b[1;33m.\u001b[0m\u001b[0msleep\u001b[0m\u001b[1;33m(\u001b[0m\u001b[0mtimeout\u001b[0m\u001b[1;33m)\u001b[0m\u001b[1;33m\u001b[0m\u001b[1;33m\u001b[0m\u001b[0m\n\u001b[0;32m    621\u001b[0m \u001b[1;33m\u001b[0m\u001b[0m\n\u001b[1;32m--> 622\u001b[1;33m         return self._request(\n\u001b[0m\u001b[0;32m    623\u001b[0m             \u001b[0moptions\u001b[0m\u001b[1;33m=\u001b[0m\u001b[0moptions\u001b[0m\u001b[1;33m,\u001b[0m\u001b[1;33m\u001b[0m\u001b[1;33m\u001b[0m\u001b[0m\n\u001b[0;32m    624\u001b[0m             \u001b[0mcast_type\u001b[0m\u001b[1;33m=\u001b[0m\u001b[0mcast_type\u001b[0m\u001b[1;33m,\u001b[0m\u001b[1;33m\u001b[0m\u001b[1;33m\u001b[0m\u001b[0m\n",
      "\u001b[1;32mC:\\ProgramData\\Anaconda3\\lib\\site-packages\\zhipuai\\core\\_http_client.py\u001b[0m in \u001b[0;36m_request\u001b[1;34m(self, cast_type, options, remaining_retries, stream, stream_cls)\u001b[0m\n\u001b[0;32m    527\u001b[0m \u001b[1;33m\u001b[0m\u001b[0m\n\u001b[0;32m    528\u001b[0m             \u001b[1;32mif\u001b[0m \u001b[0mretries\u001b[0m \u001b[1;33m>\u001b[0m \u001b[1;36m0\u001b[0m\u001b[1;33m:\u001b[0m\u001b[1;33m\u001b[0m\u001b[1;33m\u001b[0m\u001b[0m\n\u001b[1;32m--> 529\u001b[1;33m                 return self._retry_request(\n\u001b[0m\u001b[0;32m    530\u001b[0m                     \u001b[0moptions\u001b[0m\u001b[1;33m,\u001b[0m\u001b[1;33m\u001b[0m\u001b[1;33m\u001b[0m\u001b[0m\n\u001b[0;32m    531\u001b[0m                     \u001b[0mcast_type\u001b[0m\u001b[1;33m,\u001b[0m\u001b[1;33m\u001b[0m\u001b[1;33m\u001b[0m\u001b[0m\n",
      "\u001b[1;32mC:\\ProgramData\\Anaconda3\\lib\\site-packages\\zhipuai\\core\\_http_client.py\u001b[0m in \u001b[0;36m_retry_request\u001b[1;34m(self, options, cast_type, remaining_retries, response_headers, stream, stream_cls)\u001b[0m\n\u001b[0;32m    620\u001b[0m         \u001b[0mtime\u001b[0m\u001b[1;33m.\u001b[0m\u001b[0msleep\u001b[0m\u001b[1;33m(\u001b[0m\u001b[0mtimeout\u001b[0m\u001b[1;33m)\u001b[0m\u001b[1;33m\u001b[0m\u001b[1;33m\u001b[0m\u001b[0m\n\u001b[0;32m    621\u001b[0m \u001b[1;33m\u001b[0m\u001b[0m\n\u001b[1;32m--> 622\u001b[1;33m         return self._request(\n\u001b[0m\u001b[0;32m    623\u001b[0m             \u001b[0moptions\u001b[0m\u001b[1;33m=\u001b[0m\u001b[0moptions\u001b[0m\u001b[1;33m,\u001b[0m\u001b[1;33m\u001b[0m\u001b[1;33m\u001b[0m\u001b[0m\n\u001b[0;32m    624\u001b[0m             \u001b[0mcast_type\u001b[0m\u001b[1;33m=\u001b[0m\u001b[0mcast_type\u001b[0m\u001b[1;33m,\u001b[0m\u001b[1;33m\u001b[0m\u001b[1;33m\u001b[0m\u001b[0m\n",
      "\u001b[1;32mC:\\ProgramData\\Anaconda3\\lib\\site-packages\\zhipuai\\core\\_http_client.py\u001b[0m in \u001b[0;36m_request\u001b[1;34m(self, cast_type, options, remaining_retries, stream, stream_cls)\u001b[0m\n\u001b[0;32m    580\u001b[0m \u001b[1;33m\u001b[0m\u001b[0m\n\u001b[0;32m    581\u001b[0m             \u001b[0mlog\u001b[0m\u001b[1;33m.\u001b[0m\u001b[0mdebug\u001b[0m\u001b[1;33m(\u001b[0m\u001b[1;34m\"Re-raising status error\"\u001b[0m\u001b[1;33m)\u001b[0m\u001b[1;33m\u001b[0m\u001b[1;33m\u001b[0m\u001b[0m\n\u001b[1;32m--> 582\u001b[1;33m             \u001b[1;32mraise\u001b[0m \u001b[0mself\u001b[0m\u001b[1;33m.\u001b[0m\u001b[0m_make_status_error\u001b[0m\u001b[1;33m(\u001b[0m\u001b[0merr\u001b[0m\u001b[1;33m.\u001b[0m\u001b[0mresponse\u001b[0m\u001b[1;33m)\u001b[0m \u001b[1;32mfrom\u001b[0m \u001b[1;32mNone\u001b[0m\u001b[1;33m\u001b[0m\u001b[1;33m\u001b[0m\u001b[0m\n\u001b[0m\u001b[0;32m    583\u001b[0m \u001b[1;33m\u001b[0m\u001b[0m\n\u001b[0;32m    584\u001b[0m         \u001b[1;31m# return self._parse_response(\u001b[0m\u001b[1;33m\u001b[0m\u001b[1;33m\u001b[0m\u001b[0m\n",
      "\u001b[1;31mAPIReachLimitError\u001b[0m: Error code: 429, with error text {\"error\":{\"code\":\"1113\",\"message\":\"您的账户已欠费，请充值后重试。\"}}"
     ]
    }
   ],
   "source": [
    "from zhipuai import ZhipuAI\n",
    "from pathlib import Path\n",
    "import json\n",
    "#client=ZhipuAI(api_key=\"5fb6d74c21e02523bc55a45ec9e8c82d.OmRSopu4V2cO7gYC\")#自己的key\n",
    "#格式限制.PDF .DOCX .CSV。。。。。。\n",
    "#大小：单个文件50M，总数限制100个\n",
    "file_object=client.files.create(file=Path(r\"C:\\Users\\admin\\Desktop\\京东消费者分析数据.xlsx\"),purpose=\"file-extract\")\n",
    "\n",
    "#获取文本内容\n",
    "file_content=json.loads(client.files.content(file_id=file_object.id).content)[\"content\"]\n",
    "\n",
    "#生成请求\n",
    "message_content=f\"对\\n{file_content}\\n的内容进行分析，写一份论文摘要。\"\n",
    "\n",
    "response=client.chat.completions.create(\n",
    "    model=\"glm-4-long\",\n",
    "    messages=[\n",
    "        {\"role\":\"user\",\"content\":message_content},#提问\n",
    "    ],\n",
    ")\n",
    "\n",
    "print(response.choices[0].message)\n"
   ]
  },
  {
   "cell_type": "code",
   "execution_count": null,
   "id": "20b47dee",
   "metadata": {},
   "outputs": [],
   "source": []
  },
  {
   "cell_type": "code",
   "execution_count": null,
   "id": "9a35997e",
   "metadata": {},
   "outputs": [],
   "source": []
  }
 ],
 "metadata": {
  "kernelspec": {
   "display_name": "Python 3 (ipykernel)",
   "language": "python",
   "name": "python3"
  },
  "language_info": {
   "codemirror_mode": {
    "name": "ipython",
    "version": 3
   },
   "file_extension": ".py",
   "mimetype": "text/x-python",
   "name": "python",
   "nbconvert_exporter": "python",
   "pygments_lexer": "ipython3",
   "version": "3.9.7"
  }
 },
 "nbformat": 4,
 "nbformat_minor": 5
}
