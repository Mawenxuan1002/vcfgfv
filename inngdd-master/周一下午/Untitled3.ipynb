{
 "cells": [
  {
   "cell_type": "code",
   "execution_count": 1,
   "id": "7f72deb1-2a00-499d-89a6-979134d064f3",
   "metadata": {},
   "outputs": [],
   "source": [
    "import torch"
   ]
  },
  {
   "cell_type": "code",
   "execution_count": 2,
   "id": "d68298b8-6332-4b5a-bdb0-dcb19052d166",
   "metadata": {},
   "outputs": [
    {
     "name": "stdout",
     "output_type": "stream",
     "text": [
      "当 x = 0 时，sigmoid(x) 的值为: 0.5\n",
      "当 x = 0 时，sigmoid(x) 的导数为: 0.25\n"
     ]
    }
   ],
   "source": [
    "import torch\n",
    "def sigmoid(x):\n",
    "    return 1 / (1 + torch.exp(-x))\n",
    "\n",
    "x = torch.tensor([0.0], requires_grad=True)\n",
    "\n",
    "y = sigmoid(x)\n",
    "\n",
    "y.backward()\n",
    "\n",
    "# 获取导数\n",
    "gradient_at_x_0 = x.grad.item()\n",
    "\n",
    "print(f\"当 x = 0 时，sigmoid(x) 的值为: {y.item()}\")\n",
    "print(f\"当 x = 0 时，sigmoid(x) 的导数为: {gradient_at_x_0}\")"
   ]
  },
  {
   "cell_type": "code",
   "execution_count": 3,
   "id": "329f32a6-d298-429b-b591-157388b92f4c",
   "metadata": {},
   "outputs": [
    {
     "name": "stdout",
     "output_type": "stream",
     "text": [
      "当 x = 0 和 y = 1 时，z = f(x, y) 的值为: 1.0\n",
      "当 x = 0 和 y = 1 时，z 对 x 的偏导数为: 0.0\n",
      "当 x = 0 和 y = 1 时，z 对 y 的偏导数为: 2.0\n"
     ]
    }
   ],
   "source": [
    "import torch\n",
    "\n",
    "# 定义 x 和 y 为张量，并设置 requires_grad=True 以启用自动求导\n",
    "x = torch.tensor([0.0], requires_grad=True)\n",
    "y = torch.tensor([1.0], requires_grad=True)\n",
    "\n",
    "# 定义函数 z = f(x, y) = x^2 + y^2\n",
    "z = x**2 + y**2\n",
    "\n",
    "# 计算 z 对 x 的偏导数\n",
    "z.backward(torch.tensor([1.0]))\n",
    "\n",
    "# 获取偏导数\n",
    "partial_derivative_x = x.grad.item()\n",
    "partial_derivative_y = y.grad.item()\n",
    "\n",
    "print(f\"当 x = 0 和 y = 1 时，z = f(x, y) 的值为: {z.item()}\")\n",
    "print(f\"当 x = 0 和 y = 1 时，z 对 x 的偏导数为: {partial_derivative_x}\")\n",
    "print(f\"当 x = 0 和 y = 1 时，z 对 y 的偏导数为: {partial_derivative_y}\")"
   ]
  },
  {
   "cell_type": "code",
   "execution_count": 5,
   "id": "b3e2b72e-6f83-4291-8ee0-6d582c982241",
   "metadata": {},
   "outputs": [
    {
     "name": "stderr",
     "output_type": "stream",
     "text": [
      "C:\\Users\\admin\\AppData\\Local\\Temp/ipykernel_10420/912463150.py:32: UserWarning: The .grad attribute of a Tensor that is not a leaf Tensor is being accessed. Its .grad attribute won't be populated during autograd.backward(). If you indeed want the .grad field to be populated for a non-leaf Tensor, use .retain_grad() on the non-leaf Tensor. If you access the non-leaf Tensor by mistake, make sure you access the leaf Tensor instead. See github.com/pytorch/pytorch/pull/30531 for more informations. (Triggered internally at C:\\actions-runner\\_work\\pytorch\\pytorch\\builder\\windows\\pytorch\\build\\aten\\src\\ATen/core/TensorBody.h:494.)\n",
      "  v_grad = v.grad.item()\n"
     ]
    },
    {
     "ename": "AttributeError",
     "evalue": "'NoneType' object has no attribute 'item'",
     "output_type": "error",
     "traceback": [
      "\u001b[1;31m---------------------------------------------------------------------------\u001b[0m",
      "\u001b[1;31mAttributeError\u001b[0m                            Traceback (most recent call last)",
      "\u001b[1;32m~\\AppData\\Local\\Temp/ipykernel_10420/912463150.py\u001b[0m in \u001b[0;36m<module>\u001b[1;34m\u001b[0m\n\u001b[0;32m     30\u001b[0m \u001b[1;31m# 计算各节点的导数\u001b[0m\u001b[1;33m\u001b[0m\u001b[1;33m\u001b[0m\u001b[0m\n\u001b[0;32m     31\u001b[0m \u001b[0mu_grad\u001b[0m \u001b[1;33m=\u001b[0m \u001b[1;33m(\u001b[0m\u001b[1;36m2\u001b[0m\u001b[1;33m*\u001b[0m\u001b[0mx1\u001b[0m \u001b[1;33m+\u001b[0m \u001b[1;36m2\u001b[0m\u001b[1;33m*\u001b[0m\u001b[0mx2\u001b[0m\u001b[1;33m.\u001b[0m\u001b[0mgrad\u001b[0m\u001b[1;33m)\u001b[0m\u001b[1;33m.\u001b[0m\u001b[0mitem\u001b[0m\u001b[1;33m(\u001b[0m\u001b[1;33m)\u001b[0m\u001b[1;33m\u001b[0m\u001b[1;33m\u001b[0m\u001b[0m\n\u001b[1;32m---> 32\u001b[1;33m \u001b[0mv_grad\u001b[0m \u001b[1;33m=\u001b[0m \u001b[0mv\u001b[0m\u001b[1;33m.\u001b[0m\u001b[0mgrad\u001b[0m\u001b[1;33m.\u001b[0m\u001b[0mitem\u001b[0m\u001b[1;33m(\u001b[0m\u001b[1;33m)\u001b[0m\u001b[1;33m\u001b[0m\u001b[1;33m\u001b[0m\u001b[0m\n\u001b[0m\u001b[0;32m     33\u001b[0m \u001b[0mw_grad\u001b[0m \u001b[1;33m=\u001b[0m \u001b[0mw\u001b[0m\u001b[1;33m.\u001b[0m\u001b[0mgrad\u001b[0m\u001b[1;33m.\u001b[0m\u001b[0mitem\u001b[0m\u001b[1;33m(\u001b[0m\u001b[1;33m)\u001b[0m\u001b[1;33m\u001b[0m\u001b[1;33m\u001b[0m\u001b[0m\n\u001b[0;32m     34\u001b[0m \u001b[1;33m\u001b[0m\u001b[0m\n",
      "\u001b[1;31mAttributeError\u001b[0m: 'NoneType' object has no attribute 'item'"
     ]
    }
   ],
   "source": []
  },
  {
   "cell_type": "code",
   "execution_count": 7,
   "id": "08f0a95b-1a7f-4993-b47b-b2664f8e8e9b",
   "metadata": {},
   "outputs": [
    {
     "name": "stdout",
     "output_type": "stream",
     "text": [
      "当 x1 = 0 和 x2 = 1 时，y = f(x1, x2) 的值为: 0.9789532423019409\n",
      "当 x1 = 0 和 x2 = 1 时，y 对 x1 的偏导数为: 0.0\n",
      "当 x1 = 0 和 x2 = 1 时，y 对 x2 的偏导数为: 0.006312709301710129\n",
      "当 x1 = 0 和 x2 = 1 时，u = x1^2 + 2x2 + 1 的值为: 3.0\n",
      "当 x1 = 0 和 x2 = 1 时，w = x1^2 + 2x2 + 2 的值为: 4.0\n",
      "当 x1 = 0 和 x2 = 1 时，v = sigmoid(u) 的值为: 0.9525741338729858\n",
      "当 x1 = 0 和 x2 = 1 时，t = sigmoid(w) 的值为: 0.9820137619972229\n",
      "当 x1 = 0 和 x2 = 1 时，u = x1^2 + 2x2 + 1 的导数为: 0.012625418603420258\n",
      "当 x1 = 0 和 x2 = 1 时，w = x1^2 + 2x2 + 2 的导数为: 0.012625418603420258\n",
      "当 x1 = 0 和 x2 = 1 时，v = sigmoid(u) 的导数为: 0.06181146204471588\n",
      "当 x1 = 0 和 x2 = 1 时，t = sigmoid(w) 的导数为: 0.02060382068157196\n"
     ]
    }
   ],
   "source": [
    "import torch\n",
    "\n",
    "# 定义 sigmoid 激活函数\n",
    "def sigmoid(x):\n",
    "    return 1 / (1 + torch.exp(-x))\n",
    "\n",
    "# 定义 x1 和 x2 为张量，并设置 requires_grad=True 以启用自动求导\n",
    "x1 = torch.tensor([0.0], requires_grad=True)\n",
    "x2 = torch.tensor([1.0], requires_grad=True)\n",
    "\n",
    "# 计算中间变量 u = x1^2 + 2x2 + 1\n",
    "u = x1**2 + 2*x2 + 1\n",
    "\n",
    "# 计算 v = sigmoid(u)\n",
    "v = sigmoid(u)\n",
    "v.retain_grad()  # 保留 v 的梯度\n",
    "\n",
    "# 计算中间变量 w = x1^2 + 2x2 + 2\n",
    "w = x1**2 + 2*x2 + 2\n",
    "\n",
    "# 计算 t = sigmoid(w)\n",
    "t = sigmoid(w)\n",
    "t.retain_grad()  # 保留 t 的梯度\n",
    "\n",
    "# 计算最终的 y = sigmoid(3v + t)\n",
    "y = sigmoid(3*v + t)\n",
    "\n",
    "# 计算 y 对 x1 和 x2 的偏导数\n",
    "y.backward()\n",
    "\n",
    "# 获取偏导数\n",
    "partial_derivative_x1 = x1.grad.item()\n",
    "partial_derivative_x2 = x2.grad.item()\n",
    "\n",
    "# 计算各节点的值\n",
    "u_value = u.item()\n",
    "w_value = w.item()\n",
    "v_value = v.item()\n",
    "t_value = t.item()\n",
    "\n",
    "# 获取中间变量的梯度\n",
    "v_grad = v.grad.item()\n",
    "t_grad = t.grad.item()\n",
    "u_grad = (2*x1 + 2*x2.grad).item()\n",
    "w_grad = (2*x1 + 2*x2.grad).item()\n",
    "\n",
    "print(f\"当 x1 = 0 和 x2 = 1 时，y = f(x1, x2) 的值为: {y.item()}\")\n",
    "print(f\"当 x1 = 0 和 x2 = 1 时，y 对 x1 的偏导数为: {partial_derivative_x1}\")\n",
    "print(f\"当 x1 = 0 和 x2 = 1 时，y 对 x2 的偏导数为: {partial_derivative_x2}\")\n",
    "print(f\"当 x1 = 0 和 x2 = 1 时，u = x1^2 + 2x2 + 1 的值为: {u_value}\")\n",
    "print(f\"当 x1 = 0 和 x2 = 1 时，w = x1^2 + 2x2 + 2 的值为: {w_value}\")\n",
    "print(f\"当 x1 = 0 和 x2 = 1 时，v = sigmoid(u) 的值为: {v_value}\")\n",
    "print(f\"当 x1 = 0 和 x2 = 1 时，t = sigmoid(w) 的值为: {t_value}\")\n",
    "print(f\"当 x1 = 0 和 x2 = 1 时，u = x1^2 + 2x2 + 1 的导数为: {u_grad}\")\n",
    "print(f\"当 x1 = 0 和 x2 = 1 时，w = x1^2 + 2x2 + 2 的导数为: {w_grad}\")\n",
    "print(f\"当 x1 = 0 和 x2 = 1 时，v = sigmoid(u) 的导数为: {v_grad}\")\n",
    "print(f\"当 x1 = 0 和 x2 = 1 时，t = sigmoid(w) 的导数为: {t_grad}\")"
   ]
  },
  {
   "cell_type": "code",
   "execution_count": null,
   "id": "6ae9c7bc-55cc-4d59-8642-82a3fece4e0f",
   "metadata": {},
   "outputs": [],
   "source": []
  }
 ],
 "metadata": {
  "kernelspec": {
   "display_name": "Python 3 (ipykernel)",
   "language": "python",
   "name": "python3"
  },
  "language_info": {
   "codemirror_mode": {
    "name": "ipython",
    "version": 3
   },
   "file_extension": ".py",
   "mimetype": "text/x-python",
   "name": "python",
   "nbconvert_exporter": "python",
   "pygments_lexer": "ipython3",
   "version": "3.9.7"
  }
 },
 "nbformat": 4,
 "nbformat_minor": 5
}
