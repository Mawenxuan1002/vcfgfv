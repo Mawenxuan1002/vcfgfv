{
 "cells": [
  {
   "cell_type": "code",
   "execution_count": 1,
   "id": "210f5055-6d6b-4468-901b-bc4ff6e816f9",
   "metadata": {},
   "outputs": [
    {
     "name": "stdout",
     "output_type": "stream",
     "text": [
      "Looking in indexes: https://mirrors.tuna.tsinghua.edu.cn/pypi/web/simple\n",
      "Collecting zhipuai\n",
      "  Downloading https://mirrors.tuna.tsinghua.edu.cn/pypi/web/packages/10/28/5c1efbfb560e64458b22e0442279af8bde673edcb096762a3aeccee3a8ec/zhipuai-2.1.5.20230904-py3-none-any.whl (104 kB)\n",
      "Collecting some-package\n",
      "  Downloading https://mirrors.tuna.tsinghua.edu.cn/pypi/web/packages/e7/a2/d318a685319c3801db1ae0002fc8e095663a55546c62a6e30d9d0fc3289b/some-package-0.1.zip (2.8 kB)\n",
      "Collecting pyjwt<2.9.0,>=2.8.0\n",
      "  Downloading https://mirrors.tuna.tsinghua.edu.cn/pypi/web/packages/2b/4f/e04a8067c7c96c364cef7ef73906504e2f40d690811c021e1a1901473a19/PyJWT-2.8.0-py3-none-any.whl (22 kB)\n",
      "Collecting pydantic<3.0,>=1.9.0\n",
      "  Downloading https://mirrors.tuna.tsinghua.edu.cn/pypi/web/packages/d5/74/da832196702d0c56eb86b75bfa346db9238617e29b0b7ee3b8b4eccfe654/pydantic-2.10.2-py3-none-any.whl (456 kB)\n",
      "Collecting pydantic-core>=2.14.6\n",
      "  Downloading https://mirrors.tuna.tsinghua.edu.cn/pypi/web/packages/f7/9c/e83f08adc8e222b43c7f11d98b27eba08f21bcb259bcbf74743ce903c49c/pydantic_core-2.27.1-cp39-none-win_amd64.whl (2.0 MB)\n",
      "Collecting cachetools>=4.2.2\n",
      "  Downloading https://mirrors.tuna.tsinghua.edu.cn/pypi/web/packages/a4/07/14f8ad37f2d12a5ce41206c21820d8cb6561b728e51fad4530dff0552a67/cachetools-5.5.0-py3-none-any.whl (9.5 kB)\n",
      "Collecting httpx>=0.23.0\n",
      "  Downloading https://mirrors.tuna.tsinghua.edu.cn/pypi/web/packages/56/95/9377bcb415797e44274b51d46e3249eba641711cf3348050f76ee7b15ffc/httpx-0.27.2-py3-none-any.whl (76 kB)\n",
      "Requirement already satisfied: anyio in c:\\programdata\\anaconda3\\lib\\site-packages (from httpx>=0.23.0->zhipuai) (2.2.0)\n",
      "Requirement already satisfied: certifi in c:\\programdata\\anaconda3\\lib\\site-packages (from httpx>=0.23.0->zhipuai) (2021.10.8)\n",
      "Requirement already satisfied: sniffio in c:\\programdata\\anaconda3\\lib\\site-packages (from httpx>=0.23.0->zhipuai) (1.2.0)\n",
      "Collecting httpcore==1.*\n",
      "  Downloading https://mirrors.tuna.tsinghua.edu.cn/pypi/web/packages/87/f5/72347bc88306acb359581ac4d52f23c0ef445b57157adedb9aee0cd689d2/httpcore-1.0.7-py3-none-any.whl (78 kB)\n",
      "Requirement already satisfied: idna in c:\\programdata\\anaconda3\\lib\\site-packages (from httpx>=0.23.0->zhipuai) (3.2)\n",
      "Collecting h11<0.15,>=0.13\n",
      "  Downloading https://mirrors.tuna.tsinghua.edu.cn/pypi/web/packages/95/04/ff642e65ad6b90db43e668d70ffb6736436c7ce41fcc549f4e9472234127/h11-0.14.0-py3-none-any.whl (58 kB)\n",
      "Collecting annotated-types>=0.6.0\n",
      "  Downloading https://mirrors.tuna.tsinghua.edu.cn/pypi/web/packages/78/b6/6307fbef88d9b5ee7421e68d78a9f162e0da4900bc5f5793f6d3d0e34fb8/annotated_types-0.7.0-py3-none-any.whl (13 kB)\n",
      "Collecting typing-extensions>=4.12.2\n",
      "  Downloading https://mirrors.tuna.tsinghua.edu.cn/pypi/web/packages/26/9f/ad63fc0248c5379346306f8668cda6e2e2e9c95e01216d2b8ffd9ff037d0/typing_extensions-4.12.2-py3-none-any.whl (37 kB)\n",
      "Building wheels for collected packages: some-package\n",
      "  Building wheel for some-package (setup.py): started\n",
      "  Building wheel for some-package (setup.py): finished with status 'done'\n",
      "  Created wheel for some-package: filename=some_package-0.1-py3-none-any.whl size=1440 sha256=2aa9b2178491b3d21100c3642635ed5ba6c55e725b5392702a615a6c3799bfe4\n",
      "  Stored in directory: c:\\users\\admin\\appdata\\local\\pip\\cache\\wheels\\de\\a9\\af\\5d5fd4666cd446c0d8c5aed02b102c56ea8fd3aa7dfa9ce1a3\n",
      "Successfully built some-package\n",
      "Installing collected packages: typing-extensions, h11, pydantic-core, httpcore, annotated-types, pyjwt, pydantic, httpx, cachetools, zhipuai, some-package\n",
      "  Attempting uninstall: typing-extensions\n",
      "    Found existing installation: typing-extensions 3.10.0.2\n",
      "    Uninstalling typing-extensions-3.10.0.2:\n",
      "Note: you may need to restart the kernel to use updated packages.\n"
     ]
    },
    {
     "name": "stderr",
     "output_type": "stream",
     "text": [
      "ERROR: Could not install packages due to an OSError: [WinError 5] 拒绝访问。: 'c:\\\\programdata\\\\anaconda3\\\\lib\\\\site-packages\\\\__pycache__\\\\typing_extensions.cpython-39.pyc'\n",
      "Consider using the `--user` option or check the permissions.\n",
      "\n"
     ]
    }
   ],
   "source": [
    "pip install zhipuai -i https://mirrors.tuna.tsinghua.edu.cn/pypi/web/simple some-package"
   ]
  },
  {
   "cell_type": "code",
   "execution_count": 4,
   "id": "ddb279a1-289a-4ee3-9138-1d893bfa8778",
   "metadata": {},
   "outputs": [
    {
     "name": "stdout",
     "output_type": "stream",
     "text": [
      "VideoObject(id='73871732691882574-9202948298612148345', model='cogvideox', video_result=None, task_status='PROCESSING', request_id='-9202948298612148346')\n"
     ]
    }
   ],
   "source": [
    "from zhipuai import ZhipuAI\n",
    "client=ZhipuAI(api_key=\"abcbe1673c5864c5689ee1aec8ccc7fc.j1KHHY4uomSjCief\")#自己的key\n",
    "\n",
    "response=client.videos.generations(\n",
    "    model=\"cogvideox\",\n",
    "    prompt=\"小猫生啃罐头\"#输入想生成的视频内容\n",
    ")\n",
    "print(response)\n",
    "#获取id"
   ]
  },
  {
   "cell_type": "code",
   "execution_count": 5,
   "id": "88607ce6-6f45-4302-a2ff-dacc10196ad0",
   "metadata": {},
   "outputs": [
    {
     "name": "stdout",
     "output_type": "stream",
     "text": [
      "VideoObject(id=None, model='cogvideox', video_result=[VideoResult(url='https://aigc-files.bigmodel.cn/api/cogvideo/e8be4416-ad28-11ef-8bda-8e43cc144737_0.mp4', cover_image_url='https://aigc-files.bigmodel.cn/api/cogvideo/e8be4416-ad28-11ef-8bda-8e43cc144737_cover_0.jpeg')], task_status='SUCCESS', request_id='-9202948298612156782')\n"
     ]
    }
   ],
   "source": [
    "from zhipuai import ZhipuAI\n",
    "client=ZhipuAI(api_key=\"abcbe1673c5864c5689ee1aec8ccc7fc.j1KHHY4uomSjCief\")#自己的key\n",
    "\n",
    "response=client.videos.retrieve_videos_result(\n",
    "    id=\"73871732691882574-9202948298612156781\"\n",
    ")\n",
    "print(response)"
   ]
  },
  {
   "cell_type": "code",
   "execution_count": null,
   "id": "68464516-9d88-4ea5-9e51-26fae88e189c",
   "metadata": {},
   "outputs": [],
   "source": []
  }
 ],
 "metadata": {
  "kernelspec": {
   "display_name": "Python 3 (ipykernel)",
   "language": "python",
   "name": "python3"
  },
  "language_info": {
   "codemirror_mode": {
    "name": "ipython",
    "version": 3
   },
   "file_extension": ".py",
   "mimetype": "text/x-python",
   "name": "python",
   "nbconvert_exporter": "python",
   "pygments_lexer": "ipython3",
   "version": "3.9.7"
  }
 },
 "nbformat": 4,
 "nbformat_minor": 5
}
