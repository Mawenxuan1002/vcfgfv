{
 "cells": [
  {
   "cell_type": "code",
   "execution_count": 1,
   "id": "9c64896c",
   "metadata": {},
   "outputs": [],
   "source": [
    "import os\n",
    "from zhipuai import ZhipuAI\n",
    "import base64 \n",
    "os.environ[\"ZHIPUAI_API_KEY\"]=\"abcbe1673c5864c5689ee1aec8ccc7fc.j1KHHY4uomSjCief\"\n",
    "client=ZhipuAI()"
   ]
  },
  {
   "cell_type": "code",
   "execution_count": 2,
   "id": "77530d9d",
   "metadata": {},
   "outputs": [
    {
     "name": "stdout",
     "output_type": "stream",
     "text": [
      "视频响应较长等待数十秒\n",
      "CompletionMessage(content='从前有一只可爱的小猫咪，它住在一个温暖舒适的家里。小猫咪非常喜欢吃东西，尤其是罐头食品。\\n\\n有一天，主人给小猫咪带来了一罐美味的食物。小猫咪看到后非常兴奋，迫不及待地想要品尝一下。于是，它伸出爪子，轻轻地打开罐头的盖子，然后开始大口大口地吃起来。\\n\\n小猫咪吃得津津有味，嘴巴里还发出“咔嚓咔嚓”的声音。它的眼睛紧紧盯着罐头里的食物，仿佛在说:“哇，这真是太美味了!”\\n\\n吃完之后，小猫咪舔了舔嘴唇，感觉非常满足。它伸了个懒腰，打了个哈欠，然后躺下来休息了一会儿。\\n\\n从此以后，小猫咪每天都期待着主人给它带来美味的罐头食品。它知道，只要自己乖乖吃饭，就能得到更多的美食和关爱。', role='assistant', tool_calls=None)\n"
     ]
    }
   ],
   "source": [
    "video_path=r\"C:\\Users\\admin\\Desktop\\猫猫.mp4\"#视频文件路径\n",
    "with open(video_path,'rb') as video_file:\n",
    "    video_base=base64.b64encode(video_file.read()).decode('utf-8')\n",
    "    \n",
    "print(\"视频响应较长等待数十秒\")\n",
    "\n",
    "response=client.chat.completions.create(#直接调补全接口\n",
    "    model=\"glm-4v-plus\",\n",
    "    temperature=0.0,\n",
    "    top_p=0,\n",
    "    \n",
    "    messages=[{\n",
    "        \"role\":\"user\",\n",
    "        \"content\":[{\n",
    "            \"type\":\"video_url\",\n",
    "            \"video_url\":{\"url\":video_base}\n",
    "        },{\n",
    "            \"type\":\"text\",\n",
    "            \"text\":\"以讲故事的方法生动形象地描述视频\"\n",
    "        }]\n",
    "    }]\n",
    "\n",
    "\n",
    "\n",
    ")\n",
    "print(response.choices[0].message)"
   ]
  },
  {
   "cell_type": "code",
   "execution_count": null,
   "id": "4d548ea1",
   "metadata": {},
   "outputs": [],
   "source": []
  }
 ],
 "metadata": {
  "kernelspec": {
   "display_name": "Python 3 (ipykernel)",
   "language": "python",
   "name": "python3"
  },
  "language_info": {
   "codemirror_mode": {
    "name": "ipython",
    "version": 3
   },
   "file_extension": ".py",
   "mimetype": "text/x-python",
   "name": "python",
   "nbconvert_exporter": "python",
   "pygments_lexer": "ipython3",
   "version": "3.9.7"
  }
 },
 "nbformat": 4,
 "nbformat_minor": 5
}
